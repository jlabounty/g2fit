{
 "cells": [
  {
   "cell_type": "code",
   "execution_count": 1,
   "metadata": {},
   "outputs": [],
   "source": [
    "import numpy as np\n",
    "import matplotlib.pyplot as plt"
   ]
  },
  {
   "cell_type": "code",
   "execution_count": 2,
   "metadata": {},
   "outputs": [],
   "source": [
    "a = np.random.rand(4,2,5)\n",
    "b = np.zeros([4,2,5])\n",
    "# print(a,b)\n",
    "\n"
   ]
  },
  {
   "cell_type": "code",
   "execution_count": 3,
   "metadata": {},
   "outputs": [
    {
     "name": "stdout",
     "output_type": "stream",
     "text": [
      "[[[0.65135596 0.54688022 0.0865981  0.13931837 0.09988283]\n",
      "  [0.87661656 0.6958337  0.78691721 0.10154909 0.37824078]]\n",
      "\n",
      " [[0.25545651 0.32359407 0.41639337 0.490852   0.88799545]\n",
      "  [0.75966338 0.04451233 0.73673304 0.00801322 0.37891553]]\n",
      "\n",
      " [[0.17488971 0.30622336 0.14014269 0.59643037 0.95100587]\n",
      "  [0.59666174 0.021797   0.34595231 0.35204374 0.65882453]]\n",
      "\n",
      " [[0.38089465 0.83068134 0.69732081 0.08487297 0.50003781]\n",
      "  [0.10881456 0.58218811 0.6859258  0.72071592 0.31416022]]] [[[0. 0. 0. 0. 0.]\n",
      "  [0. 0. 0. 0. 0.]]\n",
      "\n",
      " [[0. 0. 0. 0. 0.]\n",
      "  [0. 0. 0. 0. 0.]]\n",
      "\n",
      " [[0. 0. 0. 0. 0.]\n",
      "  [0. 0. 0. 0. 0.]]\n",
      "\n",
      " [[0. 0. 0. 0. 0.]\n",
      "  [0. 0. 0. 0. 0.]]]\n"
     ]
    }
   ],
   "source": [
    "print(a,b)"
   ]
  },
  {
   "cell_type": "code",
   "execution_count": 4,
   "metadata": {},
   "outputs": [
    {
     "name": "stdout",
     "output_type": "stream",
     "text": [
      "CPU times: user 174 µs, sys: 115 µs, total: 289 µs\n",
      "Wall time: 197 µs\n"
     ]
    }
   ],
   "source": [
    "%%time\n",
    "\n",
    "XX,YY,ZZ = np.meshgrid(np.arange(a.shape[2]),np.arange(a.shape[1]),np.arange(a.shape[0]))"
   ]
  },
  {
   "cell_type": "code",
   "execution_count": 5,
   "metadata": {},
   "outputs": [
    {
     "name": "stdout",
     "output_type": "stream",
     "text": [
      "[[[0 0 0 0]\n",
      "  [1 1 1 1]\n",
      "  [2 2 2 2]\n",
      "  [3 3 3 3]\n",
      "  [4 4 4 4]]\n",
      "\n",
      " [[0 0 0 0]\n",
      "  [1 1 1 1]\n",
      "  [2 2 2 2]\n",
      "  [3 3 3 3]\n",
      "  [4 4 4 4]]]\n"
     ]
    }
   ],
   "source": [
    "print(XX)"
   ]
  },
  {
   "cell_type": "raw",
   "metadata": {},
   "source": [
    "np.column_stack((a,b))"
   ]
  },
  {
   "cell_type": "raw",
   "metadata": {},
   "source": [
    "aprime = np.expand_dims(a,3)\n",
    "bprime = np.expand_dims(b,3)"
   ]
  },
  {
   "cell_type": "raw",
   "metadata": {},
   "source": [
    "list(map(tuple,np.dstack((a,b)).reshape(-1,3)))"
   ]
  },
  {
   "cell_type": "code",
   "execution_count": 6,
   "metadata": {},
   "outputs": [],
   "source": [
    "from numba import jit"
   ]
  },
  {
   "cell_type": "code",
   "execution_count": 17,
   "metadata": {},
   "outputs": [],
   "source": [
    "@jit(nopython=True)\n",
    "def zip_3d(a,b,XX, YY, ZZ):\n",
    "    output = np.zeros((*a.shape,2))\n",
    "    for ai,bi,x,y,z in zip(a.ravel(),b.ravel(), XX.ravel(), YY.ravel(), ZZ.ravel()):\n",
    "        output[x,y,z,0] = ai\n",
    "        output[x,y,z,1] = bi\n",
    "    # print(output)\n",
    "    return output"
   ]
  },
  {
   "cell_type": "code",
   "execution_count": 8,
   "metadata": {},
   "outputs": [],
   "source": [
    "@jit(nopython=True)\n",
    "def zip_3d(a,b,XX, YY, ZZ):\n",
    "    output = np.zeros((*a.shape,2))\n",
    "    for i, a1 in enumerate(a):\n",
    "        for j, a2 in enumerate(a1):\n",
    "            for k, a3 in enumerate(a2):\n",
    "                output[i,j,k] = [a3, b[i,j,k]]\n",
    "    return output"
   ]
  },
  {
   "cell_type": "raw",
   "metadata": {
    "jupyter": {
     "source_hidden": true
    }
   },
   "source": [
    "def zip_3d_nojit(a,b,XX, YY, ZZ):\n",
    "    output = np.zeros((*a.shape,2))\n",
    "    # print(output)\n",
    "    for ai,bi,x,y,z in zip(a.ravel(),b.ravel(), XX.ravel(), YY.ravel(), ZZ.ravel()):\n",
    "        output[z,y,x,0] = ai\n",
    "        output[z,y,x,1] = bi\n",
    "\n",
    "    return output"
   ]
  },
  {
   "cell_type": "code",
   "execution_count": 9,
   "metadata": {
    "jupyter": {
     "source_hidden": true
    }
   },
   "outputs": [],
   "source": [
    "XX,YY,ZZ = np.meshgrid(np.arange(a.shape[2]),\n",
    "                               np.arange(a.shape[1]),\n",
    "                               np.arange(a.shape[0])\n",
    "                               )"
   ]
  },
  {
   "cell_type": "code",
   "execution_count": 10,
   "metadata": {},
   "outputs": [
    {
     "name": "stdout",
     "output_type": "stream",
     "text": [
      "CPU times: user 412 ms, sys: 30.1 ms, total: 442 ms\n",
      "Wall time: 439 ms\n"
     ]
    }
   ],
   "source": [
    "%%time\n",
    "\n",
    "zipped = zip_3d(a,b,XX,YY,ZZ )"
   ]
  },
  {
   "cell_type": "code",
   "execution_count": 11,
   "metadata": {},
   "outputs": [
    {
     "name": "stdout",
     "output_type": "stream",
     "text": [
      "[0.65135596 0.        ]\n",
      "0.6513559583201944 0.0\n"
     ]
    }
   ],
   "source": [
    "print(zipped[0][0][0])\n",
    "print(a[0][0][0], b[0][0][0])"
   ]
  },
  {
   "cell_type": "code",
   "execution_count": 12,
   "metadata": {},
   "outputs": [
    {
     "name": "stdout",
     "output_type": "stream",
     "text": [
      "[[[[0.65135596 0.        ]\n",
      "   [0.54688022 0.        ]\n",
      "   [0.0865981  0.        ]\n",
      "   [0.13931837 0.        ]\n",
      "   [0.09988283 0.        ]]\n",
      "\n",
      "  [[0.87661656 0.        ]\n",
      "   [0.6958337  0.        ]\n",
      "   [0.78691721 0.        ]\n",
      "   [0.10154909 0.        ]\n",
      "   [0.37824078 0.        ]]]\n",
      "\n",
      "\n",
      " [[[0.25545651 0.        ]\n",
      "   [0.32359407 0.        ]\n",
      "   [0.41639337 0.        ]\n",
      "   [0.490852   0.        ]\n",
      "   [0.88799545 0.        ]]\n",
      "\n",
      "  [[0.75966338 0.        ]\n",
      "   [0.04451233 0.        ]\n",
      "   [0.73673304 0.        ]\n",
      "   [0.00801322 0.        ]\n",
      "   [0.37891553 0.        ]]]\n",
      "\n",
      "\n",
      " [[[0.17488971 0.        ]\n",
      "   [0.30622336 0.        ]\n",
      "   [0.14014269 0.        ]\n",
      "   [0.59643037 0.        ]\n",
      "   [0.95100587 0.        ]]\n",
      "\n",
      "  [[0.59666174 0.        ]\n",
      "   [0.021797   0.        ]\n",
      "   [0.34595231 0.        ]\n",
      "   [0.35204374 0.        ]\n",
      "   [0.65882453 0.        ]]]\n",
      "\n",
      "\n",
      " [[[0.38089465 0.        ]\n",
      "   [0.83068134 0.        ]\n",
      "   [0.69732081 0.        ]\n",
      "   [0.08487297 0.        ]\n",
      "   [0.50003781 0.        ]]\n",
      "\n",
      "  [[0.10881456 0.        ]\n",
      "   [0.58218811 0.        ]\n",
      "   [0.6859258  0.        ]\n",
      "   [0.72071592 0.        ]\n",
      "   [0.31416022 0.        ]]]]\n"
     ]
    }
   ],
   "source": [
    "print(zipped)"
   ]
  },
  {
   "cell_type": "raw",
   "metadata": {},
   "source": [
    "%%time\n",
    "\n",
    "zipped = zip_3d_nojit(a, a,XX,YY,ZZ )"
   ]
  },
  {
   "cell_type": "code",
   "execution_count": 16,
   "metadata": {},
   "outputs": [
    {
     "name": "stdout",
     "output_type": "stream",
     "text": [
      "4.14 µs ± 330 ns per loop (mean ± std. dev. of 7 runs, 100000 loops each)\n"
     ]
    }
   ],
   "source": [
    "%%timeit\n",
    "\n",
    "zipped = zip_3d(a, b,XX,YY,ZZ )"
   ]
  },
  {
   "cell_type": "code",
   "execution_count": 19,
   "metadata": {},
   "outputs": [
    {
     "name": "stdout",
     "output_type": "stream",
     "text": [
      "1.74 µs ± 223 ns per loop (mean ± std. dev. of 7 runs, 1000000 loops each)\n"
     ]
    }
   ],
   "source": [
    "%%timeit\n",
    "\n",
    "zipped = zip_3d(a, b,XX,YY,ZZ )"
   ]
  },
  {
   "cell_type": "raw",
   "metadata": {},
   "source": [
    "%%timeit\n",
    "\n",
    "zipped = zip_3d_nojit(a, a,XX,YY,ZZ )"
   ]
  },
  {
   "cell_type": "code",
   "execution_count": null,
   "metadata": {},
   "outputs": [],
   "source": [
    "print(\"hi\")"
   ]
  },
  {
   "cell_type": "code",
   "execution_count": null,
   "metadata": {},
   "outputs": [],
   "source": []
  }
 ],
 "metadata": {
  "kernelspec": {
   "display_name": "Python 3",
   "language": "python",
   "name": "python3"
  },
  "language_info": {
   "codemirror_mode": {
    "name": "ipython",
    "version": 3
   },
   "file_extension": ".py",
   "mimetype": "text/x-python",
   "name": "python",
   "nbconvert_exporter": "python",
   "pygments_lexer": "ipython3",
   "version": "3.7.6"
  }
 },
 "nbformat": 4,
 "nbformat_minor": 4
}
