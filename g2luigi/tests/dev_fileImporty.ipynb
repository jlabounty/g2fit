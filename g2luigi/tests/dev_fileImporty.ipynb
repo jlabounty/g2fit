{
 "cells": [
  {
   "cell_type": "code",
   "execution_count": 1,
   "metadata": {},
   "outputs": [
    {
     "name": "stdout",
     "output_type": "stream",
     "text": [
      "Welcome to JupyROOT 6.22/00\n"
     ]
    }
   ],
   "source": [
    "import ROOT as r\n",
    "import numpy as np"
   ]
  },
  {
   "cell_type": "code",
   "execution_count": 2,
   "metadata": {},
   "outputs": [],
   "source": [
    "f = r.TFile(\"/home/jlab/g-2/omega_a_KS/data/results_clustersAndCoinc_unrandomized_July7_pileup_corrected.root\")\n",
    "h = f.Get(\"clustersAndCoincidences/corrected\").Clone()"
   ]
  },
  {
   "cell_type": "code",
   "execution_count": 12,
   "metadata": {},
   "outputs": [],
   "source": [
    "def rootHistToNumpy(hist3d):\n",
    "    \n",
    "    check_hist_cpp = '''\n",
    "    int checkHist(std::size_t size, const TH3* hist) \n",
    "    {\n",
    "        if (hist == nullptr) \n",
    "        {\n",
    "            return -1;\n",
    "        }\n",
    "\n",
    "        std::size_t nHistBins =\n",
    "        hist->GetNbinsX() * hist->GetNbinsY() * hist->GetNbinsZ();\n",
    "        if (nHistBins != size) \n",
    "        {\n",
    "            return -2;\n",
    "        }\n",
    "\n",
    "        return 0;\n",
    "    }\n",
    "\n",
    "    '''\n",
    "    r.gInterpreter.ProcessLine(check_hist_cpp)\n",
    "\n",
    "\n",
    "    cpp_code = '''\n",
    "        int hist3dToNumpyArray(double* data, double* error, std::size_t size, const char* histName)     {\n",
    "            const TH3* hist = (TH3*)gROOT->FindObject(histName);\n",
    "            int retcode = checkHist(size, hist);\n",
    "            if (retcode != 0) \n",
    "            {\n",
    "                return retcode;\n",
    "            }\n",
    "\n",
    "            for (int zBin = 1; zBin <= hist->GetNbinsZ(); ++zBin) \n",
    "            {\n",
    "                for (int yBin = 1; yBin <= hist->GetNbinsY(); ++yBin) \n",
    "                {\n",
    "                    for (int xBin = 1; xBin <= hist->GetNbinsX(); ++xBin) \n",
    "                    {\n",
    "                        *data++ = hist->GetBinContent(xBin, yBin, zBin);\n",
    "                        *error++ = hist->GetBinError(xBin, yBin, zBin);\n",
    "                    }\n",
    "                }\n",
    "            }\n",
    "\n",
    "            return 0;\n",
    "        }\n",
    "    '''\n",
    "    r.gInterpreter.ProcessLine(cpp_code)\n",
    "    \n",
    "    \n",
    "    shape = (hist3d.GetNbinsZ(), hist3d.GetNbinsY(), hist3d.GetNbinsX())\n",
    "    array = np.empty(shape)\n",
    "    err_array = np.empty(shape)\n",
    "\n",
    "    retcode = r.hist3dToNumpyArray(\n",
    "        array, err_array, array.size, hist3d.GetName().encode())\n",
    "    \n",
    "    return array, err_array"
   ]
  },
  {
   "cell_type": "code",
   "execution_count": 14,
   "metadata": {},
   "outputs": [
    {
     "name": "stdout",
     "output_type": "stream",
     "text": [
      "CPU times: user 6.62 s, sys: 3.95 s, total: 10.6 s\n",
      "Wall time: 10.5 s\n"
     ]
    }
   ],
   "source": [
    "%%time\n",
    "\n",
    "array, err_array = rootHistToNumpy(h)"
   ]
  },
  {
   "cell_type": "code",
   "execution_count": 15,
   "metadata": {},
   "outputs": [
    {
     "data": {
      "text/plain": [
       "6414.646020207356"
      ]
     },
     "execution_count": 15,
     "metadata": {},
     "output_type": "execute_result"
    }
   ],
   "source": [
    "array[11,11,11]"
   ]
  },
  {
   "cell_type": "code",
   "execution_count": 16,
   "metadata": {},
   "outputs": [
    {
     "data": {
      "text/plain": [
       "80.09148531652635"
      ]
     },
     "execution_count": 16,
     "metadata": {},
     "output_type": "execute_result"
    }
   ],
   "source": [
    "err_array[11,11,11]"
   ]
  },
  {
   "cell_type": "code",
   "execution_count": null,
   "metadata": {},
   "outputs": [],
   "source": []
  }
 ],
 "metadata": {
  "kernelspec": {
   "display_name": "Python 3",
   "language": "python",
   "name": "python3"
  },
  "language_info": {
   "codemirror_mode": {
    "name": "ipython",
    "version": 3
   },
   "file_extension": ".py",
   "mimetype": "text/x-python",
   "name": "python",
   "nbconvert_exporter": "python",
   "pygments_lexer": "ipython3",
   "version": "3.7.6"
  }
 },
 "nbformat": 4,
 "nbformat_minor": 4
}
